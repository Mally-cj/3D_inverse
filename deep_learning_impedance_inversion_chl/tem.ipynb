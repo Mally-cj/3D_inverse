{
 "cells": [
  {
   "cell_type": "code",
   "execution_count": null,
   "metadata": {},
   "outputs": [],
   "source": [
    "import os\n",
    "import sys\n",
    "sys.path.append(\"/home/shendi_gjh_cj/codes/3D_project/deep_learning_impedance_inversion_chl\")\n",
    "sys.path.append(\"/home/shendi_gjh_cj/codes/3D_project/codes\")\n",
    "import torch.optim\n",
    "from Model.net2D import UNet, forward_model  # unet\n",
    "from Model.utils import *  # unet\n",
    "from torch.utils import data\n",
    "from Model.joint_well import *  # unet\n",
    "import matplotlib.pyplot as plt\n",
    "import pylops\n",
    "from pylops.utils.wavelets import ricker\n",
    "from scipy.signal import filtfilt\n",
    "from scipy import signal\n",
    "import torch.nn.functional as F\n",
    "from scipy.signal.windows import gaussian\n",
    "from obspy.io.segy.segy import _read_segy\n",
    "import pdb\n",
    "import MINE.data_tools  as tools\n",
    "from icecream import ic \n",
    "from cpp_to_py import generate_well_mask as generate_well_mask2\n",
    "from cpp_to_py import get_wellline_and_mask as get_wellline_and_mask2\n",
    "\n",
    "\n",
    "Train = False"
   ]
  }
 ],
 "metadata": {
  "language_info": {
   "name": "python"
  }
 },
 "nbformat": 4,
 "nbformat_minor": 2
}
